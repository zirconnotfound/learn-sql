{
 "cells": [
  {
   "cell_type": "code",
   "execution_count": 12,
   "metadata": {},
   "outputs": [
    {
     "name": "stderr",
     "output_type": "stream",
     "text": [
      "C:\\Users\\ADMIN\\AppData\\Roaming\\Python\\Python312\\site-packages\\google\\auth\\_default.py:76: UserWarning: Your application has authenticated using end user credentials from Google Cloud SDK without a quota project. You might receive a \"quota exceeded\" or \"API not enabled\" error. See the following page for troubleshooting: https://cloud.google.com/docs/authentication/adc-troubleshooting/user-creds. \n",
      "  warnings.warn(_CLOUD_SDK_CREDENTIALS_WARNING)\n"
     ]
    }
   ],
   "source": [
    "from google.cloud import bigquery\n",
    "client = bigquery.Client()"
   ]
  },
  {
   "cell_type": "code",
   "execution_count": 18,
   "metadata": {},
   "outputs": [],
   "source": [
    "dataset_ref = client.dataset(\"chicago_crime\", project=\"bigquery-public-data\")\n",
    "dataset = client.get_dataset(dataset_ref)"
   ]
  },
  {
   "cell_type": "code",
   "execution_count": 19,
   "metadata": {},
   "outputs": [
    {
     "name": "stdout",
     "output_type": "stream",
     "text": [
      "crime\n"
     ]
    }
   ],
   "source": [
    "tables = list(client.list_tables(dataset))\n",
    "for table in tables:\n",
    "    print(table.table_id)"
   ]
  },
  {
   "cell_type": "code",
   "execution_count": 20,
   "metadata": {},
   "outputs": [],
   "source": [
    "table_ref = dataset_ref.table(\"crime\")\n",
    "table = client.get_table(table_ref)"
   ]
  },
  {
   "cell_type": "code",
   "execution_count": 32,
   "metadata": {},
   "outputs": [
    {
     "name": "stdout",
     "output_type": "stream",
     "text": [
      "2\n"
     ]
    }
   ],
   "source": [
    "count = 0\n",
    "for field in table.schema:\n",
    "    if field.field_type == 'TIMESTAMP':\n",
    "        count += 1\n",
    "print(count)"
   ]
  },
  {
   "cell_type": "code",
   "execution_count": 22,
   "metadata": {},
   "outputs": [
    {
     "data": {
      "text/html": [
       "<div>\n",
       "<style scoped>\n",
       "    .dataframe tbody tr th:only-of-type {\n",
       "        vertical-align: middle;\n",
       "    }\n",
       "\n",
       "    .dataframe tbody tr th {\n",
       "        vertical-align: top;\n",
       "    }\n",
       "\n",
       "    .dataframe thead th {\n",
       "        text-align: right;\n",
       "    }\n",
       "</style>\n",
       "<table border=\"1\" class=\"dataframe\">\n",
       "  <thead>\n",
       "    <tr style=\"text-align: right;\">\n",
       "      <th></th>\n",
       "      <th>unique_key</th>\n",
       "      <th>case_number</th>\n",
       "      <th>date</th>\n",
       "      <th>block</th>\n",
       "      <th>iucr</th>\n",
       "      <th>primary_type</th>\n",
       "      <th>description</th>\n",
       "      <th>location_description</th>\n",
       "      <th>arrest</th>\n",
       "      <th>domestic</th>\n",
       "      <th>...</th>\n",
       "      <th>ward</th>\n",
       "      <th>community_area</th>\n",
       "      <th>fbi_code</th>\n",
       "      <th>x_coordinate</th>\n",
       "      <th>y_coordinate</th>\n",
       "      <th>year</th>\n",
       "      <th>updated_on</th>\n",
       "      <th>latitude</th>\n",
       "      <th>longitude</th>\n",
       "      <th>location</th>\n",
       "    </tr>\n",
       "  </thead>\n",
       "  <tbody>\n",
       "    <tr>\n",
       "      <th>0</th>\n",
       "      <td>10399299</td>\n",
       "      <td>HZ136111</td>\n",
       "      <td>2016-02-01 00:30:00+00:00</td>\n",
       "      <td>0000X E LOWER WACKER DR</td>\n",
       "      <td>0281</td>\n",
       "      <td>CRIM SEXUAL ASSAULT</td>\n",
       "      <td>NON-AGGRAVATED</td>\n",
       "      <td>SIDEWALK</td>\n",
       "      <td>False</td>\n",
       "      <td>False</td>\n",
       "      <td>...</td>\n",
       "      <td>42</td>\n",
       "      <td>32</td>\n",
       "      <td>02</td>\n",
       "      <td>1176671.0</td>\n",
       "      <td>1902172.0</td>\n",
       "      <td>2016</td>\n",
       "      <td>2018-02-10 15:50:01+00:00</td>\n",
       "      <td>41.886909</td>\n",
       "      <td>-87.626668</td>\n",
       "      <td>(41.886909333, -87.626667672)</td>\n",
       "    </tr>\n",
       "    <tr>\n",
       "      <th>1</th>\n",
       "      <td>10664493</td>\n",
       "      <td>HZ415217</td>\n",
       "      <td>2016-08-25 08:00:00+00:00</td>\n",
       "      <td>0000X E WACKER PL</td>\n",
       "      <td>0281</td>\n",
       "      <td>CRIM SEXUAL ASSAULT</td>\n",
       "      <td>NON-AGGRAVATED</td>\n",
       "      <td>OTHER</td>\n",
       "      <td>False</td>\n",
       "      <td>False</td>\n",
       "      <td>...</td>\n",
       "      <td>42</td>\n",
       "      <td>32</td>\n",
       "      <td>02</td>\n",
       "      <td>1176954.0</td>\n",
       "      <td>1902140.0</td>\n",
       "      <td>2016</td>\n",
       "      <td>2018-02-10 15:50:01+00:00</td>\n",
       "      <td>41.886815</td>\n",
       "      <td>-87.625629</td>\n",
       "      <td>(41.886815123, -87.625629401)</td>\n",
       "    </tr>\n",
       "    <tr>\n",
       "      <th>2</th>\n",
       "      <td>7626942</td>\n",
       "      <td>HS428375</td>\n",
       "      <td>2010-07-25 04:00:00+00:00</td>\n",
       "      <td>005XX W MADISON ST</td>\n",
       "      <td>0281</td>\n",
       "      <td>CRIM SEXUAL ASSAULT</td>\n",
       "      <td>NON-AGGRAVATED</td>\n",
       "      <td>STREET</td>\n",
       "      <td>False</td>\n",
       "      <td>False</td>\n",
       "      <td>...</td>\n",
       "      <td>42</td>\n",
       "      <td>28</td>\n",
       "      <td>02</td>\n",
       "      <td>1173039.0</td>\n",
       "      <td>1900311.0</td>\n",
       "      <td>2010</td>\n",
       "      <td>2018-02-10 15:50:01+00:00</td>\n",
       "      <td>41.881884</td>\n",
       "      <td>-87.640060</td>\n",
       "      <td>(41.881883933, -87.640060441)</td>\n",
       "    </tr>\n",
       "    <tr>\n",
       "      <th>3</th>\n",
       "      <td>8708059</td>\n",
       "      <td>HV383818</td>\n",
       "      <td>2012-07-15 06:30:00+00:00</td>\n",
       "      <td>0000X W LAKE ST</td>\n",
       "      <td>0312</td>\n",
       "      <td>ROBBERY</td>\n",
       "      <td>ARMED:KNIFE/CUTTING INSTRUMENT</td>\n",
       "      <td>STREET</td>\n",
       "      <td>False</td>\n",
       "      <td>False</td>\n",
       "      <td>...</td>\n",
       "      <td>42</td>\n",
       "      <td>32</td>\n",
       "      <td>03</td>\n",
       "      <td>1175846.0</td>\n",
       "      <td>1901740.0</td>\n",
       "      <td>2012</td>\n",
       "      <td>2016-02-04 06:33:39+00:00</td>\n",
       "      <td>41.885743</td>\n",
       "      <td>-87.629710</td>\n",
       "      <td>(41.885742504, -87.629710269)</td>\n",
       "    </tr>\n",
       "    <tr>\n",
       "      <th>4</th>\n",
       "      <td>1437718</td>\n",
       "      <td>G159405</td>\n",
       "      <td>2001-03-20 15:25:00+00:00</td>\n",
       "      <td>005XX W MADISON ST</td>\n",
       "      <td>0312</td>\n",
       "      <td>ROBBERY</td>\n",
       "      <td>ARMED:KNIFE/CUTTING INSTRUMENT</td>\n",
       "      <td>ALLEY</td>\n",
       "      <td>False</td>\n",
       "      <td>False</td>\n",
       "      <td>...</td>\n",
       "      <td>&lt;NA&gt;</td>\n",
       "      <td>&lt;NA&gt;</td>\n",
       "      <td>03</td>\n",
       "      <td>1173120.0</td>\n",
       "      <td>1900351.0</td>\n",
       "      <td>2001</td>\n",
       "      <td>2015-08-17 15:03:40+00:00</td>\n",
       "      <td>41.881992</td>\n",
       "      <td>-87.639762</td>\n",
       "      <td>(41.881991899, -87.639761826)</td>\n",
       "    </tr>\n",
       "  </tbody>\n",
       "</table>\n",
       "<p>5 rows × 22 columns</p>\n",
       "</div>"
      ],
      "text/plain": [
       "   unique_key case_number                      date                    block  \\\n",
       "0    10399299    HZ136111 2016-02-01 00:30:00+00:00  0000X E LOWER WACKER DR   \n",
       "1    10664493    HZ415217 2016-08-25 08:00:00+00:00        0000X E WACKER PL   \n",
       "2     7626942    HS428375 2010-07-25 04:00:00+00:00       005XX W MADISON ST   \n",
       "3     8708059    HV383818 2012-07-15 06:30:00+00:00          0000X W LAKE ST   \n",
       "4     1437718     G159405 2001-03-20 15:25:00+00:00       005XX W MADISON ST   \n",
       "\n",
       "   iucr         primary_type                     description  \\\n",
       "0  0281  CRIM SEXUAL ASSAULT                  NON-AGGRAVATED   \n",
       "1  0281  CRIM SEXUAL ASSAULT                  NON-AGGRAVATED   \n",
       "2  0281  CRIM SEXUAL ASSAULT                  NON-AGGRAVATED   \n",
       "3  0312              ROBBERY  ARMED:KNIFE/CUTTING INSTRUMENT   \n",
       "4  0312              ROBBERY  ARMED:KNIFE/CUTTING INSTRUMENT   \n",
       "\n",
       "  location_description  arrest  domestic  ...  ward  community_area  fbi_code  \\\n",
       "0             SIDEWALK   False     False  ...    42              32        02   \n",
       "1                OTHER   False     False  ...    42              32        02   \n",
       "2               STREET   False     False  ...    42              28        02   \n",
       "3               STREET   False     False  ...    42              32        03   \n",
       "4                ALLEY   False     False  ...  <NA>            <NA>        03   \n",
       "\n",
       "   x_coordinate y_coordinate  year                updated_on   latitude  \\\n",
       "0     1176671.0    1902172.0  2016 2018-02-10 15:50:01+00:00  41.886909   \n",
       "1     1176954.0    1902140.0  2016 2018-02-10 15:50:01+00:00  41.886815   \n",
       "2     1173039.0    1900311.0  2010 2018-02-10 15:50:01+00:00  41.881884   \n",
       "3     1175846.0    1901740.0  2012 2016-02-04 06:33:39+00:00  41.885743   \n",
       "4     1173120.0    1900351.0  2001 2015-08-17 15:03:40+00:00  41.881992   \n",
       "\n",
       "   longitude                       location  \n",
       "0 -87.626668  (41.886909333, -87.626667672)  \n",
       "1 -87.625629  (41.886815123, -87.625629401)  \n",
       "2 -87.640060  (41.881883933, -87.640060441)  \n",
       "3 -87.629710  (41.885742504, -87.629710269)  \n",
       "4 -87.639762  (41.881991899, -87.639761826)  \n",
       "\n",
       "[5 rows x 22 columns]"
      ]
     },
     "execution_count": 22,
     "metadata": {},
     "output_type": "execute_result"
    }
   ],
   "source": [
    "client.list_rows(table, max_results=5).to_dataframe()"
   ]
  },
  {
   "cell_type": "code",
   "execution_count": 25,
   "metadata": {},
   "outputs": [
    {
     "data": {
      "text/plain": [
       "1"
      ]
     },
     "execution_count": 25,
     "metadata": {},
     "output_type": "execute_result"
    }
   ],
   "source": [
    "tables.__len__()"
   ]
  }
 ],
 "metadata": {
  "kernelspec": {
   "display_name": "Python 3",
   "language": "python",
   "name": "python3"
  },
  "language_info": {
   "codemirror_mode": {
    "name": "ipython",
    "version": 3
   },
   "file_extension": ".py",
   "mimetype": "text/x-python",
   "name": "python",
   "nbconvert_exporter": "python",
   "pygments_lexer": "ipython3",
   "version": "3.12.5"
  }
 },
 "nbformat": 4,
 "nbformat_minor": 2
}
